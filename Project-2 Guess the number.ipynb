{
 "cells": [
  {
   "cell_type": "code",
   "execution_count": 11,
   "metadata": {},
   "outputs": [],
   "source": [
    "import random"
   ]
  },
  {
   "cell_type": "code",
   "execution_count": 23,
   "metadata": {},
   "outputs": [
    {
     "name": "stdout",
     "output_type": "stream",
     "text": [
      "GUESS THE NUMBER GAME\n",
      "Guess the number! Baby:->1\n",
      "Try Again, With the higher number\n",
      "Guess the number! Baby:->2\n",
      "Try Again, With the higher number\n",
      "Guess the number! Baby:->5\n",
      "Whao You guess the right number\n"
     ]
    }
   ],
   "source": [
    "print(\"GUESS THE NUMBER GAME\")\n",
    "\n",
    "#from random, we use the random number in the range between 1 to 9\n",
    "number=random.randrange(1,9)\n",
    "\n",
    "choice=0\n",
    "\n",
    "while choice<5:\n",
    "    \n",
    "    guess_number=int(input(\"Guess the number! Baby:->\"))\n",
    "    \n",
    "    if guess_number==number:\n",
    "        print(\"Whao You guess the right number\")\n",
    "        break\n",
    "        \n",
    "    elif guess_number<number:\n",
    "        print(\"Try Again, With the higher number\")\n",
    "        \n",
    "    else:\n",
    "        print(\"Try Again, With the lower number\")\n",
    "        \n",
    "    choice+=1\n",
    "    \n",
    "if choice==5:\n",
    "    print(\"You Loose!! Try again\")"
   ]
  },
  {
   "cell_type": "code",
   "execution_count": null,
   "metadata": {},
   "outputs": [],
   "source": []
  },
  {
   "cell_type": "code",
   "execution_count": null,
   "metadata": {},
   "outputs": [],
   "source": []
  }
 ],
 "metadata": {
  "kernelspec": {
   "display_name": "Python 3",
   "language": "python",
   "name": "python3"
  },
  "language_info": {
   "codemirror_mode": {
    "name": "ipython",
    "version": 3
   },
   "file_extension": ".py",
   "mimetype": "text/x-python",
   "name": "python",
   "nbconvert_exporter": "python",
   "pygments_lexer": "ipython3",
   "version": "3.6.3"
  }
 },
 "nbformat": 4,
 "nbformat_minor": 4
}
